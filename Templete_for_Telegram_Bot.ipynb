{
  "nbformat": 4,
  "nbformat_minor": 0,
  "metadata": {
    "colab": {
      "name": "telegram bot.ipynb",
      "provenance": [],
      "include_colab_link": true
    },
    "kernelspec": {
      "name": "python3",
      "display_name": "Python 3"
    },
    "language_info": {
      "name": "python"
    }
  },
  "cells": [
    {
      "cell_type": "markdown",
      "metadata": {
        "id": "view-in-github",
        "colab_type": "text"
      },
      "source": [
        "<a href=\"https://colab.research.google.com/github/vahabbayat/Templete_for_Telegram_Bot/blob/main/Templete_for_Telegram_Bot.ipynb\" target=\"_parent\"><img src=\"https://colab.research.google.com/assets/colab-badge.svg\" alt=\"Open In Colab\"/></a>"
      ]
    },
    {
      "cell_type": "code",
      "execution_count": 3,
      "metadata": {
        "colab": {
          "base_uri": "https://localhost:8080/"
        },
        "id": "TZaK8JYSno1m",
        "outputId": "400d2cfc-81b1-4461-b01f-d32ec119312b"
      },
      "outputs": [
        {
          "output_type": "stream",
          "name": "stdout",
          "text": [
            "Collecting pyTelegramBotAPI\n",
            "  Downloading pyTelegramBotAPI-4.4.0.tar.gz (147 kB)\n",
            "\u001b[?25l\r\u001b[K     |██▎                             | 10 kB 18.4 MB/s eta 0:00:01\r\u001b[K     |████▌                           | 20 kB 23.2 MB/s eta 0:00:01\r\u001b[K     |██████▊                         | 30 kB 27.5 MB/s eta 0:00:01\r\u001b[K     |█████████                       | 40 kB 31.8 MB/s eta 0:00:01\r\u001b[K     |███████████▏                    | 51 kB 35.3 MB/s eta 0:00:01\r\u001b[K     |█████████████▍                  | 61 kB 29.3 MB/s eta 0:00:01\r\u001b[K     |███████████████▋                | 71 kB 25.3 MB/s eta 0:00:01\r\u001b[K     |█████████████████▉              | 81 kB 26.4 MB/s eta 0:00:01\r\u001b[K     |████████████████████            | 92 kB 28.4 MB/s eta 0:00:01\r\u001b[K     |██████████████████████▎         | 102 kB 27.2 MB/s eta 0:00:01\r\u001b[K     |████████████████████████▌       | 112 kB 27.2 MB/s eta 0:00:01\r\u001b[K     |██████████████████████████▊     | 122 kB 27.2 MB/s eta 0:00:01\r\u001b[K     |█████████████████████████████   | 133 kB 27.2 MB/s eta 0:00:01\r\u001b[K     |███████████████████████████████▏| 143 kB 27.2 MB/s eta 0:00:01\r\u001b[K     |████████████████████████████████| 147 kB 27.2 MB/s \n",
            "\u001b[?25hRequirement already satisfied: requests in /usr/local/lib/python3.7/dist-packages (from pyTelegramBotAPI) (2.23.0)\n",
            "Requirement already satisfied: idna<3,>=2.5 in /usr/local/lib/python3.7/dist-packages (from requests->pyTelegramBotAPI) (2.10)\n",
            "Requirement already satisfied: urllib3!=1.25.0,!=1.25.1,<1.26,>=1.21.1 in /usr/local/lib/python3.7/dist-packages (from requests->pyTelegramBotAPI) (1.24.3)\n",
            "Requirement already satisfied: chardet<4,>=3.0.2 in /usr/local/lib/python3.7/dist-packages (from requests->pyTelegramBotAPI) (3.0.4)\n",
            "Requirement already satisfied: certifi>=2017.4.17 in /usr/local/lib/python3.7/dist-packages (from requests->pyTelegramBotAPI) (2021.10.8)\n",
            "Building wheels for collected packages: pyTelegramBotAPI\n",
            "  Building wheel for pyTelegramBotAPI (setup.py) ... \u001b[?25l\u001b[?25hdone\n",
            "  Created wheel for pyTelegramBotAPI: filename=pyTelegramBotAPI-4.4.0-py3-none-any.whl size=128152 sha256=d528bc16acb2b183d0353a2688997602aee88487bd69cce56106bf7e101caa74\n",
            "  Stored in directory: /root/.cache/pip/wheels/1e/6d/ff/435b12799b8212017f08dbbfdb7a1e5174d72d20fb7c0f4703\n",
            "Successfully built pyTelegramBotAPI\n",
            "Installing collected packages: pyTelegramBotAPI\n",
            "Successfully installed pyTelegramBotAPI-4.4.0\n"
          ]
        }
      ],
      "source": [
        "pip install pyTelegramBotAPI"
      ]
    },
    {
      "cell_type": "code",
      "source": [
        "import telebot\n",
        "\n",
        "bot = telebot.TeleBot(\"5208659168:AAGgQErSmHV7Rdi-M1_X3WD87jKITflJWCE\") "
      ],
      "metadata": {
        "id": "yrNdEd9ptqrH"
      },
      "execution_count": 8,
      "outputs": []
    },
    {
      "cell_type": "code",
      "source": [
        "@bot.message_handler(commands=['hi', 'bye'])\n",
        "def send_welcome(message):\n",
        "\tbot.reply_to(message, \"hi babe, how are you?\")"
      ],
      "metadata": {
        "id": "6u6y7wr3ujmI"
      },
      "execution_count": 9,
      "outputs": []
    },
    {
      "cell_type": "code",
      "source": [
        "@bot.message_handler(func=lambda m: True)\n",
        "def echo_all(message):\n",
        "\tbot.reply_to(message, str(eval(message.text)))"
      ],
      "metadata": {
        "id": "ifLTBKFhzaUQ"
      },
      "execution_count": 10,
      "outputs": []
    },
    {
      "cell_type": "code",
      "source": [
        "bot.infinity_polling()"
      ],
      "metadata": {
        "colab": {
          "base_uri": "https://localhost:8080/"
        },
        "id": "huqyeiJdyvIa",
        "outputId": "2e006277-5855-47aa-f41e-81c28c798723"
      },
      "execution_count": 11,
      "outputs": [
        {
          "output_type": "stream",
          "name": "stderr",
          "text": [
            "2022-02-07 06:29:14,091 (__init__.py:621 MainThread) ERROR - TeleBot: \"Infinity polling: polling exited\"\n",
            "2022-02-07 06:29:14,094 (__init__.py:623 MainThread) ERROR - TeleBot: \"Break infinity polling\"\n"
          ]
        }
      ]
    },
    {
      "cell_type": "code",
      "source": [
        ""
      ],
      "metadata": {
        "id": "_mSkCx5Ky27i"
      },
      "execution_count": null,
      "outputs": []
    }
  ]
}